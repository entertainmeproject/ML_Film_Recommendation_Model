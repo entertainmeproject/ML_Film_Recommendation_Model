{
  "nbformat": 4,
  "nbformat_minor": 0,
  "metadata": {
    "colab": {
      "provenance": [],
      "gpuType": "T4"
    },
    "kernelspec": {
      "name": "python3",
      "display_name": "Python 3"
    },
    "language_info": {
      "name": "python"
    },
    "accelerator": "GPU"
  },
  "cells": [
    {
      "cell_type": "code",
      "execution_count": null,
      "metadata": {
        "id": "eQacWus8VkB_"
      },
      "outputs": [],
      "source": [
        "import pandas as pd\n",
        "import os"
      ]
    },
    {
      "cell_type": "markdown",
      "source": [
        "Menggabungkan seluruh file .csv"
      ],
      "metadata": {
        "id": "k9WXDR-PY9iQ"
      }
    },
    {
      "cell_type": "code",
      "source": [
        "directory = '/content/'\n",
        "\n",
        "dfs = []\n",
        "\n",
        "for filename in os.listdir(directory):\n",
        "    if filename.endswith(\".csv\"):\n",
        "        filepath = os.path.join(directory, filename)\n",
        "        df = pd.read_csv(filepath)\n",
        "        dfs.append(df)\n",
        "\n",
        "combined_df = pd.concat(dfs, ignore_index=True)\n",
        "\n",
        "combined_df.to_csv('/content/combined_file.csv', index=False)"
      ],
      "metadata": {
        "id": "3rRl2xJLXbSx"
      },
      "execution_count": null,
      "outputs": []
    },
    {
      "cell_type": "code",
      "source": [
        "print(\"Tipe data setiap kolom:\")\n",
        "print(df.dtypes)\n",
        "\n",
        "print(\"\\nJumlah nilai null di setiap kolom:\")\n",
        "print(df.isnull().sum())"
      ],
      "metadata": {
        "colab": {
          "base_uri": "https://localhost:8080/"
        },
        "id": "GUrxF1RZb6AY",
        "outputId": "8bcc38a7-1807-49f6-83d4-99660dceb4c6"
      },
      "execution_count": null,
      "outputs": [
        {
          "output_type": "stream",
          "name": "stdout",
          "text": [
            "Tipe data setiap kolom:\n",
            "movie_id        object\n",
            "movie_name      object\n",
            "year            object\n",
            "certificate     object\n",
            "runtime         object\n",
            "genre           object\n",
            "rating         float64\n",
            "description     object\n",
            "director        object\n",
            "director_id     object\n",
            "star            object\n",
            "star_id         object\n",
            "votes          float64\n",
            "gross(in $)    float64\n",
            "dtype: object\n",
            "\n",
            "Jumlah nilai null di setiap kolom:\n",
            "movie_id           0\n",
            "movie_name         0\n",
            "year            7591\n",
            "certificate    26935\n",
            "runtime        13320\n",
            "genre              0\n",
            "rating         15523\n",
            "description        0\n",
            "director        3065\n",
            "director_id     3065\n",
            "star            7130\n",
            "star_id         6354\n",
            "votes          15523\n",
            "gross(in $)    35336\n",
            "dtype: int64\n"
          ]
        }
      ]
    },
    {
      "cell_type": "code",
      "source": [
        "genre_counts = df['genre'].value_counts()\n",
        "\n",
        "print(genre_counts)"
      ],
      "metadata": {
        "colab": {
          "base_uri": "https://localhost:8080/"
        },
        "id": "CXat8R5fZGwE",
        "outputId": "f8276967-78d0-4f15-a869-d949cda4ca4d"
      },
      "execution_count": null,
      "outputs": [
        {
          "output_type": "stream",
          "name": "stdout",
          "text": [
            "genre\n",
            "Horror                         16050\n",
            "Horror, Thriller                3501\n",
            "Comedy, Horror                  1988\n",
            "Horror, Mystery, Thriller       1311\n",
            "Drama, Horror, Thriller         1034\n",
            "                               ...  \n",
            "Action, Thriller, War              1\n",
            "Drama, Action, Horror              1\n",
            "Animation, Fantasy, History        1\n",
            "Horror, Mystery, Action            1\n",
            "Mystery, Crime, Horror             1\n",
            "Name: count, Length: 342, dtype: int64\n"
          ]
        }
      ]
    },
    {
      "cell_type": "markdown",
      "source": [
        "Drop Kolom Yang Tidak Diperlukan"
      ],
      "metadata": {
        "id": "eqIHPL-wdn4Z"
      }
    },
    {
      "cell_type": "code",
      "source": [
        "columns_to_drop = ['certificate', 'director_id', 'star_id', 'gross(in $)']\n",
        "\n",
        "df = df.drop(columns=columns_to_drop)"
      ],
      "metadata": {
        "collapsed": true,
        "id": "M5FIzPclcGrp"
      },
      "execution_count": null,
      "outputs": []
    },
    {
      "cell_type": "code",
      "source": [
        "another_columns_to_drop = ['movie_id', 'description']\n",
        "\n",
        "df = df.drop(columns=another_columns_to_drop)\n",
        "\n",
        "print(df.head())\n",
        "\n",
        "print (df.shape[0])"
      ],
      "metadata": {
        "colab": {
          "base_uri": "https://localhost:8080/"
        },
        "id": "JR4M8LXjchTq",
        "outputId": "d43d074b-6638-406d-eba7-417028fc8275"
      },
      "execution_count": null,
      "outputs": [
        {
          "output_type": "stream",
          "name": "stdout",
          "text": [
            "           movie_name  year  runtime                      genre  rating  \\\n",
            "0  Knock at the Cabin  2023  100 min  Horror, Mystery, Thriller     6.4   \n",
            "1            The Menu  2022  107 min           Horror, Thriller     7.2   \n",
            "2               M3GAN  2022  102 min   Horror, Sci-Fi, Thriller     6.4   \n",
            "3         Viking Wolf  2022   97 min           Horror, Thriller     5.1   \n",
            "4       Infinity Pool  2023  117 min     Crime, Horror, Mystery     6.5   \n",
            "\n",
            "             director                                               star  \\\n",
            "0  M. Night Shyamalan  Dave Bautista, \\nJonathan Groff, \\nRupert Grin...   \n",
            "1          Mark Mylod  Ralph Fiennes, \\nAnya Taylor-Joy, \\nNicholas H...   \n",
            "2    Gerard Johnstone  Allison Williams, \\nViolet McGraw, \\nRonny Chi...   \n",
            "3       Stig Svendsen  Liv Mjönes, \\nElli Rhiannon Müller Osborne, \\n...   \n",
            "4  Brandon Cronenberg  Alexander Skarsgård, \\nMia Goth, \\nCleopatra C...   \n",
            "\n",
            "      votes  \n",
            "0   17991.0  \n",
            "1  232052.0  \n",
            "2   62458.0  \n",
            "3    3872.0  \n",
            "4    6955.0  \n",
            "36682\n"
          ]
        }
      ]
    },
    {
      "cell_type": "markdown",
      "source": [
        "Membersihkan Data"
      ],
      "metadata": {
        "id": "s-i8aBBFd3Jx"
      }
    },
    {
      "cell_type": "code",
      "source": [
        "print(\"Tipe data setiap kolom:\")\n",
        "print(df.dtypes)\n",
        "\n",
        "print(\"\\nJumlah nilai null di setiap kolom:\")\n",
        "print(df.isnull().sum())"
      ],
      "metadata": {
        "colab": {
          "base_uri": "https://localhost:8080/"
        },
        "id": "j1uTfm69di-0",
        "outputId": "8864a6b8-b5fe-427f-8da7-5dd547acb8e5"
      },
      "execution_count": null,
      "outputs": [
        {
          "output_type": "stream",
          "name": "stdout",
          "text": [
            "Tipe data setiap kolom:\n",
            "movie_name     object\n",
            "year           object\n",
            "runtime        object\n",
            "genre          object\n",
            "rating        float64\n",
            "director       object\n",
            "star           object\n",
            "votes         float64\n",
            "dtype: object\n",
            "\n",
            "Jumlah nilai null di setiap kolom:\n",
            "movie_name        0\n",
            "year           7591\n",
            "runtime       13320\n",
            "genre             0\n",
            "rating        15523\n",
            "director       3065\n",
            "star           7130\n",
            "votes         15523\n",
            "dtype: int64\n"
          ]
        }
      ]
    },
    {
      "cell_type": "code",
      "source": [
        "df_cleaned = df.dropna()\n",
        "\n",
        "num_rows = df_cleaned.shape[0]\n",
        "\n",
        "print(f\"Jumlah baris data setelah menghapus baris dengan nilai null: {num_rows}\")\n",
        "\n",
        "print(df_cleaned.head())"
      ],
      "metadata": {
        "colab": {
          "base_uri": "https://localhost:8080/"
        },
        "id": "DAdsmfcPeS6d",
        "outputId": "b80c7c4d-d276-49e1-d030-9f568ca3403c"
      },
      "execution_count": null,
      "outputs": [
        {
          "output_type": "stream",
          "name": "stdout",
          "text": [
            "Jumlah baris data setelah menghapus baris dengan nilai null: 19474\n",
            "           movie_name  year  runtime                      genre  rating  \\\n",
            "0  Knock at the Cabin  2023  100 min  Horror, Mystery, Thriller     6.4   \n",
            "1            The Menu  2022  107 min           Horror, Thriller     7.2   \n",
            "2               M3GAN  2022  102 min   Horror, Sci-Fi, Thriller     6.4   \n",
            "3         Viking Wolf  2022   97 min           Horror, Thriller     5.1   \n",
            "4       Infinity Pool  2023  117 min     Crime, Horror, Mystery     6.5   \n",
            "\n",
            "             director                                               star  \\\n",
            "0  M. Night Shyamalan  Dave Bautista, \\nJonathan Groff, \\nRupert Grin...   \n",
            "1          Mark Mylod  Ralph Fiennes, \\nAnya Taylor-Joy, \\nNicholas H...   \n",
            "2    Gerard Johnstone  Allison Williams, \\nViolet McGraw, \\nRonny Chi...   \n",
            "3       Stig Svendsen  Liv Mjönes, \\nElli Rhiannon Müller Osborne, \\n...   \n",
            "4  Brandon Cronenberg  Alexander Skarsgård, \\nMia Goth, \\nCleopatra C...   \n",
            "\n",
            "      votes  \n",
            "0   17991.0  \n",
            "1  232052.0  \n",
            "2   62458.0  \n",
            "3    3872.0  \n",
            "4    6955.0  \n"
          ]
        }
      ]
    },
    {
      "cell_type": "code",
      "source": [
        "print(\"\\nJumlah nilai null di setiap kolom:\")\n",
        "print(df_cleaned.isnull().sum())"
      ],
      "metadata": {
        "colab": {
          "base_uri": "https://localhost:8080/"
        },
        "id": "bd9NmwI_fBcc",
        "outputId": "0c08504a-58f0-45c4-ea1e-d5f6e367f9bc"
      },
      "execution_count": null,
      "outputs": [
        {
          "output_type": "stream",
          "name": "stdout",
          "text": [
            "\n",
            "Jumlah nilai null di setiap kolom:\n",
            "movie_name    0\n",
            "year          0\n",
            "runtime       0\n",
            "genre         0\n",
            "rating        0\n",
            "director      0\n",
            "star          0\n",
            "votes         0\n",
            "dtype: int64\n"
          ]
        }
      ]
    },
    {
      "cell_type": "markdown",
      "source": [
        "Membagi kolom genre yang memiliki beberapa genre menjadi beberapa baris dengan satu genre untuk setiap baris"
      ],
      "metadata": {
        "id": "Y9Zt4ULSgvz-"
      }
    },
    {
      "cell_type": "code",
      "source": [
        "df_cleaned['genre'] = df_cleaned['genre'].str.split(', ')\n",
        "\n",
        "df_exploded = df_cleaned.explode('genre')\n",
        "\n",
        "print(df_exploded)"
      ],
      "metadata": {
        "colab": {
          "base_uri": "https://localhost:8080/"
        },
        "id": "wAuETw7Zf4__",
        "outputId": "4777abc7-9f92-45f3-866c-5a5971b33d84"
      },
      "execution_count": null,
      "outputs": [
        {
          "output_type": "stream",
          "name": "stdout",
          "text": [
            "                           movie_name  year  runtime     genre  rating  \\\n",
            "0                  Knock at the Cabin  2023  100 min    Horror     6.4   \n",
            "0                  Knock at the Cabin  2023  100 min   Mystery     6.4   \n",
            "0                  Knock at the Cabin  2023  100 min  Thriller     6.4   \n",
            "1                            The Menu  2022  107 min    Horror     7.2   \n",
            "1                            The Menu  2022  107 min  Thriller     7.2   \n",
            "...                               ...   ...      ...       ...     ...   \n",
            "36623              Anak Titipan Setan  2023  108 min    Horror     5.1   \n",
            "36640                  Gairah Malam 2  1995   73 min     Drama     5.2   \n",
            "36640                  Gairah Malam 2  1995   73 min    Horror     5.2   \n",
            "36640                  Gairah Malam 2  1995   73 min   Mystery     5.2   \n",
            "36646  Inside: A Chinese Horror Story  2017   89 min    Horror     4.8   \n",
            "\n",
            "                                      director  \\\n",
            "0                           M. Night Shyamalan   \n",
            "0                           M. Night Shyamalan   \n",
            "0                           M. Night Shyamalan   \n",
            "1                                   Mark Mylod   \n",
            "1                                   Mark Mylod   \n",
            "...                                        ...   \n",
            "36623  Erwin Arnada, \\nWahyuddin Hasani Widodo   \n",
            "36640                             Steady Rimba   \n",
            "36640                             Steady Rimba   \n",
            "36640                             Steady Rimba   \n",
            "36646                                 Lili Bai   \n",
            "\n",
            "                                                    star     votes  \n",
            "0      Dave Bautista, \\nJonathan Groff, \\nRupert Grin...   17991.0  \n",
            "0      Dave Bautista, \\nJonathan Groff, \\nRupert Grin...   17991.0  \n",
            "0      Dave Bautista, \\nJonathan Groff, \\nRupert Grin...   17991.0  \n",
            "1      Ralph Fiennes, \\nAnya Taylor-Joy, \\nNicholas H...  232052.0  \n",
            "1      Ralph Fiennes, \\nAnya Taylor-Joy, \\nNicholas H...  232052.0  \n",
            "...                                                  ...       ...  \n",
            "36623  Gisella Anastasia, \\nIngrid Widjanarko, \\nAnni...      10.0  \n",
            "36640  Malfin Shayna, \\nTaffana Dewi, \\nChairil J.M.,...      20.0  \n",
            "36640  Malfin Shayna, \\nTaffana Dewi, \\nChairil J.M.,...      20.0  \n",
            "36640  Malfin Shayna, \\nTaffana Dewi, \\nChairil J.M.,...      20.0  \n",
            "36646                    Marc Philip Goodman, \\nYulai Lü      55.0  \n",
            "\n",
            "[41694 rows x 8 columns]\n"
          ]
        },
        {
          "output_type": "stream",
          "name": "stderr",
          "text": [
            "<ipython-input-10-3216669422ed>:1: SettingWithCopyWarning: \n",
            "A value is trying to be set on a copy of a slice from a DataFrame.\n",
            "Try using .loc[row_indexer,col_indexer] = value instead\n",
            "\n",
            "See the caveats in the documentation: https://pandas.pydata.org/pandas-docs/stable/user_guide/indexing.html#returning-a-view-versus-a-copy\n",
            "  df_cleaned['genre'] = df_cleaned['genre'].str.split(', ')\n"
          ]
        }
      ]
    },
    {
      "cell_type": "code",
      "source": [
        "num_rows =df_exploded.shape[0]\n",
        "\n",
        "print(f\"Jumlah baris data setelah memecah genre: {num_rows}\")"
      ],
      "metadata": {
        "colab": {
          "base_uri": "https://localhost:8080/"
        },
        "id": "okL63hYAhGB9",
        "outputId": "3757e195-71be-483f-e7fe-1937eef4dab8"
      },
      "execution_count": null,
      "outputs": [
        {
          "output_type": "stream",
          "name": "stdout",
          "text": [
            "Jumlah baris data setelah memecah genre: 41694\n"
          ]
        }
      ]
    },
    {
      "cell_type": "code",
      "source": [
        "df_exploded.to_csv('/content/film_clean.csv', index=False)"
      ],
      "metadata": {
        "id": "hXkmxB-8m_V8"
      },
      "execution_count": null,
      "outputs": []
    }
  ]
}